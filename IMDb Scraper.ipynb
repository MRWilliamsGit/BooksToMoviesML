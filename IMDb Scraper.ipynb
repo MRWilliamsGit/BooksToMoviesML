{
 "cells": [
  {
   "cell_type": "code",
   "execution_count": 1,
   "id": "dfcc0ef4",
   "metadata": {},
   "outputs": [],
   "source": [
    "#IMDB scraper"
   ]
  },
  {
   "cell_type": "code",
   "execution_count": 23,
   "id": "8a479e68",
   "metadata": {},
   "outputs": [],
   "source": [
    "from bs4 import BeautifulSoup\n",
    "import pandas as pd\n",
    "import numpy as np\n",
    "import requests\n",
    "import re"
   ]
  },
  {
   "cell_type": "code",
   "execution_count": 24,
   "id": "aca14d55",
   "metadata": {},
   "outputs": [],
   "source": [
    "#quick function to get text from between brackets\n",
    "#turns out I could have just used .string ><\n",
    "def findtext(w):\n",
    "    w = str(w)\n",
    "    w = w[w.find('>')+1:w.find('<', w.find('>'), len(w))]\n",
    "    return w\n",
    "\n",
    "#quick function to get money - does not convert to string at this time\n",
    "def findmoney(w):\n",
    "    w = str(w)\n",
    "    w = w[w.find('$')+1:w.find('<', w.find('$'), len(w))]\n",
    "    return w"
   ]
  },
  {
   "cell_type": "code",
   "execution_count": 81,
   "id": "dff9896b",
   "metadata": {},
   "outputs": [],
   "source": [
    "###THIS IS THE FULL SCRAPE OF A PAGE###\n",
    "\n",
    "def Get_Movie(url):\n",
    "    # Request the page and use BeautifulSoup to extract the contents\n",
    "    page = requests.get(url)\n",
    "    soup = BeautifulSoup(page.content, 'html.parser')\n",
    "    \n",
    "    #get title\n",
    "    title = soup.find(attrs={'data-testid':'hero-title-block__title'})\n",
    "    title = findtext(title)\n",
    "\n",
    "    #get release date and rating (PG, PG13, etc)\n",
    "    DR = soup.find_all(attrs={'class':'TitleBlockMetaData__ListItemText-sc-12ein40-2 jedhex'})\n",
    "    if DR is not None:\n",
    "        if len(DR)==2:\n",
    "            date = findtext(DR[0])\n",
    "            rating = findtext(DR[1])\n",
    "        else:\n",
    "            date = findtext(DR[0])\n",
    "            rating = None\n",
    "    else:\n",
    "        date = None\n",
    "        rating = None\n",
    "\n",
    "    #get a list of genres\n",
    "    gen = soup.find(attrs={'data-testid':'storyline-genres'}) \n",
    "    if gen is not None:\n",
    "        gen = gen.find_all('a')\n",
    "        genres =''\n",
    "        for t in range(len(gen)):\n",
    "            genres = genres + findtext(gen[t]) + ' '\n",
    "    else:\n",
    "        genres = None\n",
    "\n",
    "    #get box office info\n",
    "    #budget often has '(estimated)' in it\n",
    "    box = soup.find(attrs={'data-testid':'title-boxoffice-section'})\n",
    "    if box is not None:\n",
    "        budget = box.find(attrs={'data-testid':'title-boxoffice-budget'}) \n",
    "        budget = str(budget)\n",
    "        budget = findmoney(budget)\n",
    "        dom = box.find(attrs={'data-testid':'title-boxoffice-grossdomestic'})\n",
    "        dom = findmoney(dom)\n",
    "        ww = soup.find(attrs={'data-testid':'title-boxoffice-cumulativeworldwidegross'}) \n",
    "        ww = findmoney(ww)\n",
    "    else:\n",
    "        budget = None\n",
    "        dom = None\n",
    "        ww = None\n",
    "\n",
    "    #get the description\n",
    "    story = soup.find(attrs={'data-testid':'Storyline'}) \n",
    "    desc = story.find(attrs={'class':'ipc-html-content ipc-html-content--base'})\n",
    "    desc = desc.div\n",
    "    desc = findtext(desc)\n",
    "\n",
    "    #get top tags\n",
    "    #only shows top few tags, usually list tag is to full list which can be in hundreds\n",
    "    kw = story.find(attrs={'data-testid':'storyline-plot-keywords'}) \n",
    "    if kw is not None:\n",
    "        kw = kw.find_all('span')\n",
    "        keywords = ''\n",
    "        for t in range(len(kw)):\n",
    "            #keywords.append(findtext(kw[t]))\n",
    "            keywords = keywords + findtext(kw[t]) + ' '\n",
    "        #if 'more' in keywords[-1]:\n",
    "            #keywords = keywords[:-1]\n",
    "    else:\n",
    "        keywords = None\n",
    "\n",
    "    #get runtime in minutes\n",
    "    rt = soup.find(attrs={'data-testid':'title-techspec_runtime'}) \n",
    "    if rt is not None:\n",
    "        rt = rt.find('div')\n",
    "        hrs = findtext(rt)\n",
    "        rt = str(rt)\n",
    "        mins = rt[::-1]\n",
    "        mins = mins[7:]\n",
    "        mins = mins[mins.find('<')+1:mins.find('>', mins.find('<'), len(mins))]\n",
    "        runtime = int(hrs)*60 + int(mins)\n",
    "    else:\n",
    "        runtime = None\n",
    "\n",
    "    #put all that info in a list and return it \n",
    "    #NOTE: genres and keywords are both still list objects\n",
    "    obs = [title,date,rating, genres, budget,dom,ww,desc,keywords, runtime]\n",
    "    \n",
    "    return obs"
   ]
  },
  {
   "cell_type": "code",
   "execution_count": 82,
   "id": "c047abf4",
   "metadata": {},
   "outputs": [],
   "source": [
    "#ok now pull in our list of movies\n",
    "movies = pd.read_csv(r'C:\\Users\\maria\\OneDrive\\Documents\\AIPI510\\BooksToMoviesML\\FilmList.csv')\n",
    "movies = movies['Link']\n",
    "#drop the first one because it has not been released yet\n",
    "movies = movies.drop([0])\n",
    "#print(movies.isnull().sum())\n",
    "\n",
    "\n",
    "#instantiate dataframe\n",
    "data = pd.DataFrame(columns = ['Title', 'Release_Date', 'ViewRating', 'Genres', 'Budget', 'DomesticGross', \n",
    "                              'WorldwideGross', 'Description', 'Keywords', 'Runtime'])"
   ]
  },
  {
   "cell_type": "code",
   "execution_count": 83,
   "id": "89578a9f",
   "metadata": {},
   "outputs": [
    {
     "name": "stdout",
     "output_type": "stream",
     "text": [
      "/title/tt1160419/\n",
      "/title/tt13069986/\n",
      "/title/tt3228774/\n",
      "/title/tt6654210/\n",
      "/title/tt8150814/\n",
      "/title/tt6566576/\n",
      "/title/tt8893974/\n",
      "/title/tt10293406/\n",
      "/title/tt13056008/\n",
      "/title/tt3215824/\n",
      "/title/tt2076822/\n",
      "/title/tt9701940/\n",
      "/title/tt10521144/\n",
      "/title/tt7740496/\n",
      "/title/tt9100054/\n",
      "/title/tt10962368/\n",
      "/title/tt4479380/\n",
      "/title/tt9130508/\n",
      "/title/tt9701942/\n",
      "/title/tt6111574/\n",
      "/title/tt11657662/\n",
      "/title/tt1893273/\n",
      "/title/tt0499097/\n",
      "/title/tt9471660/\n",
      "/title/tt8482584/\n",
      "/title/tt12229370/\n",
      "/title/tt6432466/\n",
      "/title/tt12783454/\n",
      "/title/tt6571548/\n",
      "/title/tt11698662/\n",
      "/title/tt10505316/\n",
      "/title/tt10451312/\n",
      "/title/tt3696180/\n",
      "/title/tt12851396/\n",
      "/title/tt12299824/\n",
      "/title/tt8521736/\n",
      "/title/tt9110904/\n",
      "/title/tt15204288/\n",
      "/title/tt13304948/\n",
      "/title/tt12847812/\n",
      "/title/tt11540284/\n",
      "/title/tt11777920/\n",
      "/title/tt3301314/\n",
      "/title/tt11681056/\n",
      "/title/tt14599938/\n",
      "/title/tt5738280/\n",
      "/title/tt10644372/\n",
      "/title/tt11636880/\n",
      "/title/tt3804810/\n",
      "/title/tt13387422/\n",
      "/title/tt13873302/\n",
      "/title/tt13269616/\n",
      "/title/tt10510280/\n",
      "/title/tt5280052/\n",
      "/title/tt10196108/\n",
      "/title/tt13289298/\n",
      "/title/tt14236064/\n",
      "/title/tt4853244/\n",
      "/title/tt13514232/\n",
      "/title/tt10540510/\n",
      "/title/tt15310274/\n",
      "/title/tt8170712/\n",
      "/title/tt13287528/\n",
      "/title/tt11936782/\n",
      "/title/tt9803454/\n",
      "/title/tt14749948/\n",
      "/title/tt14966368/\n",
      "/title/tt13528562/\n",
      "/title/tt13346994/\n",
      "/title/tt10749948/\n",
      "/title/tt11799764/\n"
     ]
    },
    {
     "ename": "AttributeError",
     "evalue": "'NoneType' object has no attribute 'div'",
     "output_type": "error",
     "traceback": [
      "\u001b[1;31m---------------------------------------------------------------------------\u001b[0m",
      "\u001b[1;31mAttributeError\u001b[0m                            Traceback (most recent call last)",
      "\u001b[1;32m<ipython-input-83-f93f6181c389>\u001b[0m in \u001b[0;36m<module>\u001b[1;34m\u001b[0m\n\u001b[0;32m      2\u001b[0m \u001b[1;32mfor\u001b[0m \u001b[0mthis\u001b[0m \u001b[1;32min\u001b[0m \u001b[0mmovies\u001b[0m\u001b[1;33m:\u001b[0m\u001b[1;33m\u001b[0m\u001b[1;33m\u001b[0m\u001b[0m\n\u001b[0;32m      3\u001b[0m     \u001b[0mprint\u001b[0m\u001b[1;33m(\u001b[0m\u001b[0mthis\u001b[0m\u001b[1;33m)\u001b[0m\u001b[1;33m\u001b[0m\u001b[1;33m\u001b[0m\u001b[0m\n\u001b[1;32m----> 4\u001b[1;33m     \u001b[0mobs\u001b[0m \u001b[1;33m=\u001b[0m \u001b[0mGet_Movie\u001b[0m\u001b[1;33m(\u001b[0m\u001b[1;34m'https://www.imdb.com{}'\u001b[0m\u001b[1;33m.\u001b[0m\u001b[0mformat\u001b[0m\u001b[1;33m(\u001b[0m\u001b[0mthis\u001b[0m\u001b[1;33m)\u001b[0m\u001b[1;33m)\u001b[0m\u001b[1;33m\u001b[0m\u001b[1;33m\u001b[0m\u001b[0m\n\u001b[0m\u001b[0;32m      5\u001b[0m     \u001b[0mdata\u001b[0m\u001b[1;33m.\u001b[0m\u001b[0mloc\u001b[0m\u001b[1;33m[\u001b[0m\u001b[0mlen\u001b[0m\u001b[1;33m(\u001b[0m\u001b[0mdata\u001b[0m\u001b[1;33m)\u001b[0m\u001b[1;33m]\u001b[0m \u001b[1;33m=\u001b[0m \u001b[0mobs\u001b[0m\u001b[1;33m\u001b[0m\u001b[1;33m\u001b[0m\u001b[0m\n\u001b[0;32m      6\u001b[0m \u001b[1;33m\u001b[0m\u001b[0m\n",
      "\u001b[1;32m<ipython-input-81-24d99855f9f5>\u001b[0m in \u001b[0;36mGet_Movie\u001b[1;34m(url)\u001b[0m\n\u001b[0;32m     52\u001b[0m     \u001b[0mstory\u001b[0m \u001b[1;33m=\u001b[0m \u001b[0msoup\u001b[0m\u001b[1;33m.\u001b[0m\u001b[0mfind\u001b[0m\u001b[1;33m(\u001b[0m\u001b[0mattrs\u001b[0m\u001b[1;33m=\u001b[0m\u001b[1;33m{\u001b[0m\u001b[1;34m'data-testid'\u001b[0m\u001b[1;33m:\u001b[0m\u001b[1;34m'Storyline'\u001b[0m\u001b[1;33m}\u001b[0m\u001b[1;33m)\u001b[0m\u001b[1;33m\u001b[0m\u001b[1;33m\u001b[0m\u001b[0m\n\u001b[0;32m     53\u001b[0m     \u001b[0mdesc\u001b[0m \u001b[1;33m=\u001b[0m \u001b[0mstory\u001b[0m\u001b[1;33m.\u001b[0m\u001b[0mfind\u001b[0m\u001b[1;33m(\u001b[0m\u001b[0mattrs\u001b[0m\u001b[1;33m=\u001b[0m\u001b[1;33m{\u001b[0m\u001b[1;34m'class'\u001b[0m\u001b[1;33m:\u001b[0m\u001b[1;34m'ipc-html-content ipc-html-content--base'\u001b[0m\u001b[1;33m}\u001b[0m\u001b[1;33m)\u001b[0m\u001b[1;33m\u001b[0m\u001b[1;33m\u001b[0m\u001b[0m\n\u001b[1;32m---> 54\u001b[1;33m     \u001b[0mdesc\u001b[0m \u001b[1;33m=\u001b[0m \u001b[0mdesc\u001b[0m\u001b[1;33m.\u001b[0m\u001b[0mdiv\u001b[0m\u001b[1;33m\u001b[0m\u001b[1;33m\u001b[0m\u001b[0m\n\u001b[0m\u001b[0;32m     55\u001b[0m     \u001b[0mdesc\u001b[0m \u001b[1;33m=\u001b[0m \u001b[0mfindtext\u001b[0m\u001b[1;33m(\u001b[0m\u001b[0mdesc\u001b[0m\u001b[1;33m)\u001b[0m\u001b[1;33m\u001b[0m\u001b[1;33m\u001b[0m\u001b[0m\n\u001b[0;32m     56\u001b[0m \u001b[1;33m\u001b[0m\u001b[0m\n",
      "\u001b[1;31mAttributeError\u001b[0m: 'NoneType' object has no attribute 'div'"
     ]
    }
   ],
   "source": [
    "#scrape provided pages\n",
    "for this in movies:\n",
    "    print(this)\n",
    "    obs = Get_Movie('https://www.imdb.com{}'.format(this))\n",
    "    data.loc[len(data)] = obs\n",
    "        "
   ]
  },
  {
   "cell_type": "code",
   "execution_count": 84,
   "id": "a7c94b56",
   "metadata": {},
   "outputs": [
    {
     "name": "stdout",
     "output_type": "stream",
     "text": [
      "<class 'pandas.core.frame.DataFrame'>\n",
      "Int64Index: 70 entries, 0 to 69\n",
      "Data columns (total 10 columns):\n",
      " #   Column          Non-Null Count  Dtype \n",
      "---  ------          --------------  ----- \n",
      " 0   Title           70 non-null     object\n",
      " 1   Release_Date    70 non-null     object\n",
      " 2   ViewRating      44 non-null     object\n",
      " 3   Genres          70 non-null     object\n",
      " 4   Budget          24 non-null     object\n",
      " 5   DomesticGross   24 non-null     object\n",
      " 6   WorldwideGross  24 non-null     object\n",
      " 7   Description     70 non-null     object\n",
      " 8   Keywords        70 non-null     object\n",
      " 9   Runtime         67 non-null     object\n",
      "dtypes: object(10)\n",
      "memory usage: 6.0+ KB\n",
      "None\n"
     ]
    }
   ],
   "source": [
    "print(data.info())"
   ]
  },
  {
   "cell_type": "code",
   "execution_count": 59,
   "id": "1734c2e5",
   "metadata": {},
   "outputs": [],
   "source": [
    "data.\n"
   ]
  },
  {
   "cell_type": "code",
   "execution_count": 73,
   "id": "0938fa67",
   "metadata": {},
   "outputs": [],
   "source": [
    "page = requests.get('https://www.imdb.com/title/tt9701940/')\n",
    "soup = BeautifulSoup(page.content, 'html.parser')\n"
   ]
  },
  {
   "cell_type": "code",
   "execution_count": 74,
   "id": "336ae047",
   "metadata": {},
   "outputs": [
    {
     "name": "stdout",
     "output_type": "stream",
     "text": [
      "[<span class=\"TitleBlockMetaData__ListItemText-sc-12ein40-2 jedhex\">2021</span>, <span class=\"TitleBlockMetaData__ListItemText-sc-12ein40-2 jedhex\">R</span>]\n"
     ]
    }
   ],
   "source": [
    "DR = soup.find_all(attrs={'class':'TitleBlockMetaData__ListItemText-sc-12ein40-2 jedhex'})\n",
    "#print(type(DR))\n",
    "print(DR)"
   ]
  },
  {
   "cell_type": "code",
   "execution_count": null,
   "id": "18df7b62",
   "metadata": {},
   "outputs": [],
   "source": []
  }
 ],
 "metadata": {
  "kernelspec": {
   "display_name": "Python 3",
   "language": "python",
   "name": "python3"
  },
  "language_info": {
   "codemirror_mode": {
    "name": "ipython",
    "version": 3
   },
   "file_extension": ".py",
   "mimetype": "text/x-python",
   "name": "python",
   "nbconvert_exporter": "python",
   "pygments_lexer": "ipython3",
   "version": "3.8.8"
  }
 },
 "nbformat": 4,
 "nbformat_minor": 5
}
