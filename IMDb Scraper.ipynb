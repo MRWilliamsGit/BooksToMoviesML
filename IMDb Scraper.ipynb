{
 "cells": [
  {
   "cell_type": "code",
   "execution_count": 1,
   "id": "dfcc0ef4",
   "metadata": {},
   "outputs": [],
   "source": [
    "#IMDB scraper"
   ]
  },
  {
   "cell_type": "code",
   "execution_count": 125,
   "id": "8a479e68",
   "metadata": {},
   "outputs": [],
   "source": [
    "from bs4 import BeautifulSoup\n",
    "import pandas as pd\n",
    "import numpy as np\n",
    "import requests\n",
    "import re"
   ]
  },
  {
   "cell_type": "code",
   "execution_count": 133,
   "id": "aca14d55",
   "metadata": {},
   "outputs": [],
   "source": [
    "#quick function to get text from between brackets\n",
    "#turns out I could have just used .string ><\n",
    "def findtext(w):\n",
    "    w = str(w)\n",
    "    w = w[w.find('>')+1:w.find('<', w.find('>'), len(w))]\n",
    "    return w\n",
    "\n",
    "#quick function to get money - does not convert to string at this time\n",
    "def findmoney(w):\n",
    "    w = str(w)\n",
    "    w = w[w.find('$')+1:w.find('<', w.find('$'), len(w))]\n",
    "    return w"
   ]
  },
  {
   "cell_type": "code",
   "execution_count": 134,
   "id": "dff9896b",
   "metadata": {},
   "outputs": [],
   "source": [
    "###THIS IS THE FULL SCRAPE OF A PAGE###\n",
    "\n",
    "def Get_Movie(url):\n",
    "    # Request the page and use BeautifulSoup to extract the contents\n",
    "    page = requests.get(url)\n",
    "    soup = BeautifulSoup(page.content, 'html.parser')\n",
    "    \n",
    "    #get title\n",
    "    title = soup.find(attrs={'data-testid':'hero-title-block__title'})\n",
    "    title = findtext(title)\n",
    "\n",
    "    #get release data and rating (PG, PG13, etc)\n",
    "    DR = soup.find_all(attrs={'class':'TitleBlockMetaData__ListItemText-sc-12ein40-2 jedhex'})\n",
    "    date = findtext(DR[0])\n",
    "    rating = findtext(DR[1])\n",
    "\n",
    "    #get a LIST of genres\n",
    "    gen = soup.find(attrs={'data-testid':'storyline-genres'}) \n",
    "    gen = gen.find_all('a')\n",
    "    genres = []\n",
    "    for t in range(len(gen)):\n",
    "        genres.append(findtext(gen[t]))\n",
    "\n",
    "    #get box office info\n",
    "    #budget often has '(estimated)' in it\n",
    "    box = soup.find(attrs={'data-testid':'title-boxoffice-section'})\n",
    "    budget = box.find(attrs={'data-testid':'title-boxoffice-budget'}) \n",
    "    budget = str(budget)\n",
    "    budget = findmoney(budget)\n",
    "    dom = box.find(attrs={'data-testid':'title-boxoffice-grossdomestic'})\n",
    "    dom = findmoney(dom)\n",
    "    ww = soup.find(attrs={'data-testid':'title-boxoffice-cumulativeworldwidegross'}) \n",
    "    ww = findmoney(ww)\n",
    "\n",
    "    #get the description\n",
    "    story = soup.find(attrs={'data-testid':'Storyline'}) \n",
    "    desc = story.find(attrs={'class':'ipc-html-content ipc-html-content--base'})\n",
    "    desc = desc.div\n",
    "    desc = findtext(desc)\n",
    "\n",
    "    #get top tags\n",
    "    #only shows top few tags, usually list tag is to full list which can be in hundreds\n",
    "    kw = story.find(attrs={'data-testid':'storyline-plot-keywords'}) \n",
    "    kw = kw.find_all('span')\n",
    "    keywords = []\n",
    "    for t in range(len(kw)):\n",
    "        keywords.append(findtext(kw[t]))\n",
    "    if 'more' in keywords[-1]:\n",
    "        keywords = keywords[:-1]\n",
    "\n",
    "    #get runtime in minutes\n",
    "    rt = soup.find(attrs={'data-testid':'title-techspec_runtime'}) \n",
    "    rt = rt.find('div')\n",
    "    hrs = findtext(rt)\n",
    "    rt = str(rt)\n",
    "    mins = rt[::-1]\n",
    "    mins = mins[7:]\n",
    "    mins = mins[mins.find('<')+1:mins.find('>', mins.find('<'), len(mins))]\n",
    "    runtime = int(hrs)*60 + int(mins)\n",
    "\n",
    "    #put all that info in a list and return it \n",
    "    #NOTE: genres and keywords are both still list objects\n",
    "    obs = [title,date,rating, genres, budget,dom,ww,desc,keywords, runtime]\n",
    "    \n",
    "    return obs"
   ]
  },
  {
   "cell_type": "code",
   "execution_count": null,
   "id": "383042ce",
   "metadata": {},
   "outputs": [],
   "source": [
    "#ok now pull in our list of movies\n",
    "movies = pd.read_csv('FilmsList.csv')\n",
    "movies = movies['Link']"
   ]
  },
  {
   "cell_type": "code",
   "execution_count": 136,
   "id": "89578a9f",
   "metadata": {},
   "outputs": [],
   "source": [
    "#instantiate dataframe\n",
    "data = pd.DataFrame(columns = ['Title', 'Release_Date', 'ViewRating', 'Genres', 'Budget', 'DomesticGross', \n",
    "                              'WorldwideGross', 'Description', 'Keywords', 'Runtime'])\n",
    "#scrape provided pages\n",
    "for this in movies:\n",
    "    obs = Get_Movie('https://www.imdb.com{}'.format(this))\n",
    "    data.loc[len(data)] = obs\n",
    "        "
   ]
  },
  {
   "cell_type": "code",
   "execution_count": 137,
   "id": "a7c94b56",
   "metadata": {},
   "outputs": [
    {
     "name": "stdout",
     "output_type": "stream",
     "text": [
      "<class 'pandas.core.frame.DataFrame'>\n",
      "Int64Index: 2 entries, 0 to 1\n",
      "Data columns (total 10 columns):\n",
      " #   Column          Non-Null Count  Dtype \n",
      "---  ------          --------------  ----- \n",
      " 0   Title           2 non-null      object\n",
      " 1   Release_Date    2 non-null      object\n",
      " 2   ViewRating      2 non-null      object\n",
      " 3   Genres          2 non-null      object\n",
      " 4   Budget          2 non-null      object\n",
      " 5   DomesticGross   2 non-null      object\n",
      " 6   WorldwideGross  2 non-null      object\n",
      " 7   Description     2 non-null      object\n",
      " 8   Keywords        2 non-null      object\n",
      " 9   Runtime         2 non-null      object\n",
      "dtypes: object(10)\n",
      "memory usage: 176.0+ bytes\n",
      "None\n"
     ]
    }
   ],
   "source": [
    "print(data.info())"
   ]
  },
  {
   "cell_type": "code",
   "execution_count": null,
   "id": "d876ce6a",
   "metadata": {},
   "outputs": [],
   "source": []
  }
 ],
 "metadata": {
  "kernelspec": {
   "display_name": "Python 3",
   "language": "python",
   "name": "python3"
  },
  "language_info": {
   "codemirror_mode": {
    "name": "ipython",
    "version": 3
   },
   "file_extension": ".py",
   "mimetype": "text/x-python",
   "name": "python",
   "nbconvert_exporter": "python",
   "pygments_lexer": "ipython3",
   "version": "3.8.8"
  }
 },
 "nbformat": 4,
 "nbformat_minor": 5
}
