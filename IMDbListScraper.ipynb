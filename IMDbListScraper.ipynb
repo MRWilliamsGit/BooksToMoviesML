{
 "cells": [
  {
   "cell_type": "code",
   "execution_count": 194,
   "id": "b1a1f180",
   "metadata": {},
   "outputs": [],
   "source": [
    "#Maria Williams  - Nov, 2021\n",
    "#scraper to pull list of novel adaptations from IMDB"
   ]
  },
  {
   "cell_type": "code",
   "execution_count": 1,
   "id": "afd77b03",
   "metadata": {},
   "outputs": [],
   "source": [
    "from bs4 import BeautifulSoup, NavigableString\n",
    "import pandas as pd\n",
    "import numpy as np\n",
    "import requests\n",
    "import re"
   ]
  },
  {
   "cell_type": "code",
   "execution_count": 2,
   "id": "6d828381",
   "metadata": {},
   "outputs": [],
   "source": [
    "#First Pass:\n",
    "#1) feature films, 2) tagged 'based on novel', 3) release from years 2000 to 2021: 3,516 titles - 71 pages\n",
    "#baseurl = 'https://www.imdb.com/search/keyword/?keywords=based-on-novel&ref_=kw_nxt&mode=detail&page={}&title_type=movie&release_date=2000%2C2021&sort=year,desc'\n",
    "\n",
    "#Second Pass:\n",
    "#1) feature films, 2) tagged 'based on novel', 3) release from years 2000 to 2021: 6,262 titles - 126 pages\n",
    "baseurl = 'https://www.imdb.com/search/keyword/?keywords=based-on-novel&ref_=kw_ref_yr&mode=detail&page={}&title_type=movie&release_date=1970%2C2000&sort=year,desc'\n",
    "\n",
    "#initialize dataframe\n",
    "popcorn = pd.DataFrame(columns = ['Link','Title', 'Release_Date', 'ViewRating', 'Runtime', 'Genres', 'Description'])\n"
   ]
  },
  {
   "cell_type": "code",
   "execution_count": 3,
   "id": "982adf9e",
   "metadata": {},
   "outputs": [],
   "source": [
    "def makestring(bs4):\n",
    "    if bs4 is None:\n",
    "        return ' '\n",
    "    else:\n",
    "        return bs4.string\n",
    "    \n",
    "def GetPage(baseurl,num):\n",
    "    \n",
    "    pop = pd.DataFrame(columns = ['Link','Title', 'Release_Date', 'ViewRating', 'Runtime', 'Genres', 'Description'])\n",
    "    \n",
    "    page = requests.get(baseurl.format(num))\n",
    "    soup = BeautifulSoup(page.content, 'html.parser')\n",
    "    main = soup.find_all(attrs={'class':'lister-item mode-detail'})\n",
    "    #print(len(main))\n",
    "\n",
    "    for p in range(len(main)):\n",
    "        #get title\n",
    "        link = main[p].a['href']\n",
    "        title = main[p].h3.a.string\n",
    "        #get description\n",
    "        desc = main[p].find_all('p')\n",
    "        desc = desc[1].string\n",
    "        #get a bunch of other things that may or may not be there  \n",
    "        year = makestring(main[p].find(attrs={'class':'lister-item-year text-muted unbold'}))\n",
    "        rating = makestring(main[p].find(attrs={'class':'certificate'}))\n",
    "        length = makestring(main[p].find(attrs={'class':'runtime'}))\n",
    "        genre = makestring(main[p].find(attrs={'class':'genre'}))\n",
    "        #get number of stars - nvm there are always four shown\n",
    "        #block = main[p].find_all('p')\n",
    "        #bock = str(block[2])\n",
    "        #stars = what[what.find(\"Stars:\"):].count('a href')\n",
    "        #print(title,year,rating,length,genre,desc)\n",
    "        gotit = [link,title,year,rating,length,genre,desc]\n",
    "        pop.loc[len(pop)] = gotit\n",
    "\n",
    "    #print(pop.info())\n",
    "    return pop"
   ]
  },
  {
   "cell_type": "code",
   "execution_count": 4,
   "id": "a573378b",
   "metadata": {},
   "outputs": [],
   "source": [
    "#each page has 50 entries\n",
    "#First pass: loop to get a 71 pages (full results for seach criteria)\n",
    "#Second pass: loop to get 126 pages\n",
    "\n",
    "for page in range(126):\n",
    "    popper = GetPage(baseurl,page+1)\n",
    "    popcorn = popcorn.append(popper)\n",
    "\n",
    "popcorn['Genres'] = popcorn['Genres'].str.strip()\n",
    "popcorn['Description'] = popcorn['Description'].str.strip()"
   ]
  },
  {
   "cell_type": "code",
   "execution_count": 5,
   "id": "a9d05764",
   "metadata": {},
   "outputs": [
    {
     "name": "stdout",
     "output_type": "stream",
     "text": [
      "<class 'pandas.core.frame.DataFrame'>\n",
      "Int64Index: 6262 entries, 0 to 11\n",
      "Data columns (total 7 columns):\n",
      " #   Column        Non-Null Count  Dtype \n",
      "---  ------        --------------  ----- \n",
      " 0   Link          6262 non-null   object\n",
      " 1   Title         6262 non-null   object\n",
      " 2   Release_Date  6262 non-null   object\n",
      " 3   ViewRating    6262 non-null   object\n",
      " 4   Runtime       6262 non-null   object\n",
      " 5   Genres        6262 non-null   object\n",
      " 6   Description   3538 non-null   object\n",
      "dtypes: object(7)\n",
      "memory usage: 391.4+ KB\n",
      "None\n",
      "                Link                            Title Release_Date ViewRating  \\\n",
      "0  /title/tt0075959/  Jin yu liang yuan hong lou meng       (2007)              \n",
      "1  /title/tt0144084/                  American Psycho       (2000)          R   \n",
      "2  /title/tt0180093/              Requiem for a Dream       (2000)          R   \n",
      "3  /title/tt0266308/                    Battle Royale       (2000)  Not Rated   \n",
      "4  /title/tt0190590/       O Brother, Where Art Thou?       (2000)      PG-13   \n",
      "\n",
      "   Runtime                    Genres  \\\n",
      "0  108 min          Musical, Romance   \n",
      "1  101 min      Comedy, Crime, Drama   \n",
      "2  102 min                     Drama   \n",
      "3  114 min  Action, Adventure, Drama   \n",
      "4  107 min  Adventure, Comedy, Crime   \n",
      "\n",
      "                                         Description  \n",
      "0                                               None  \n",
      "1  A wealthy New York City investment banking exe...  \n",
      "2  The drug-induced utopias of four Coney Island ...  \n",
      "3  In the future, the Japanese government capture...  \n",
      "4  In the deep south during the 1930s, three esca...  \n"
     ]
    }
   ],
   "source": [
    "print(popcorn.info())\n",
    "print(popcorn.head())"
   ]
  },
  {
   "cell_type": "code",
   "execution_count": 6,
   "id": "e27ccfcb",
   "metadata": {},
   "outputs": [],
   "source": [
    "popcorn.to_csv('FilmList2.csv', index = False)"
   ]
  },
  {
   "cell_type": "code",
   "execution_count": null,
   "id": "9776df25",
   "metadata": {},
   "outputs": [],
   "source": []
  }
 ],
 "metadata": {
  "kernelspec": {
   "display_name": "Python 3",
   "language": "python",
   "name": "python3"
  },
  "language_info": {
   "codemirror_mode": {
    "name": "ipython",
    "version": 3
   },
   "file_extension": ".py",
   "mimetype": "text/x-python",
   "name": "python",
   "nbconvert_exporter": "python",
   "pygments_lexer": "ipython3",
   "version": "3.8.8"
  }
 },
 "nbformat": 4,
 "nbformat_minor": 5
}
