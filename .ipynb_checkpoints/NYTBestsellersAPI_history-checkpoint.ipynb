{
 "cells": [
  {
   "cell_type": "code",
   "execution_count": null,
   "id": "5bab3047",
   "metadata": {},
   "outputs": [],
   "source": [
    "#Maria Williams - Nov 2021\n",
    "#API implementation for the New York Times bestsellers list\n",
    "#Note that this information seems to be only from 2008-06-08 on"
   ]
  },
  {
   "cell_type": "markdown",
   "id": "9c4e0268",
   "metadata": {},
   "source": [
    "API returns:\n",
    "- title\n",
    "- description\n",
    "- contributor\n",
    "- author\n",
    "- contributor_note\n",
    "- price\n",
    "- age_group\n",
    "- publisher\n",
    "- isbns\n",
    "- ranks_history\n",
    "- reviews"
   ]
  },
  {
   "cell_type": "code",
   "execution_count": 131,
   "id": "4fb6e72c",
   "metadata": {},
   "outputs": [],
   "source": [
    "#imports\n",
    "import requests\n",
    "import json\n",
    "import pandas as pd"
   ]
  },
  {
   "cell_type": "code",
   "execution_count": 142,
   "id": "b8f0db35",
   "metadata": {},
   "outputs": [],
   "source": [
    "#calls the API for book history - returns 20 results at a time\n",
    "#The num_results field indicates how many results there are total: 34063 on 11/9/21\n",
    "\n",
    "#function to call API for book history\n",
    "def GetBooks():\n",
    "    \n",
    "    #make a dataframe to append each set\n",
    "    books = pd.DataFrame()\n",
    "    \n",
    "    #base url:\n",
    "    baseurl = 'https://api.nytimes.com/svc/books/v3/lists/best-sellers/history.json?api-key=SxFXElEPeXUt0Nk3zzK0H04iB635Oap6&offset={}'\n",
    "\n",
    "    #each call only pulls in 20, so we need to loop\n",
    "    for start in range(0,34063,20):\n",
    "        response = requests.get(url = baseurl.format(start))\n",
    "        response = response.json()\n",
    "        #print(response['num_results'])\n",
    "        if 'results' in response:\n",
    "            response = response['results']\n",
    "            response = pd.DataFrame.from_dict(response, orient='columns')\n",
    "            #print(response.keys())\n",
    "            #print(response.info())\n",
    "            books = books.append(pd.DataFrame.from_dict(response, orient='columns'), ignore_index=True)\n",
    "        \n",
    "    return books"
   ]
  },
  {
   "cell_type": "code",
   "execution_count": 143,
   "id": "f5bbf1d0",
   "metadata": {},
   "outputs": [],
   "source": [
    "books = GetBooks()\n",
    "books.to_csv('NYCBestsellers.csv',index=False)"
   ]
  },
  {
   "cell_type": "code",
   "execution_count": null,
   "id": "f5c5b525",
   "metadata": {},
   "outputs": [],
   "source": []
  }
 ],
 "metadata": {
  "kernelspec": {
   "display_name": "Python 3",
   "language": "python",
   "name": "python3"
  },
  "language_info": {
   "codemirror_mode": {
    "name": "ipython",
    "version": 3
   },
   "file_extension": ".py",
   "mimetype": "text/x-python",
   "name": "python",
   "nbconvert_exporter": "python",
   "pygments_lexer": "ipython3",
   "version": "3.8.8"
  }
 },
 "nbformat": 4,
 "nbformat_minor": 5
}
