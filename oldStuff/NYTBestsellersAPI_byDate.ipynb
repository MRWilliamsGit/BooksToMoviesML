{
 "cells": [
  {
   "cell_type": "code",
   "execution_count": null,
   "id": "5344d132",
   "metadata": {},
   "outputs": [],
   "source": [
    "#Maria Williams - Nov 2021\n",
    "#API implementation for the New York Times bestsellers list\n",
    "#this is code we did not need to use in final implementation\n"
   ]
  },
  {
   "cell_type": "code",
   "execution_count": 7,
   "id": "81d4d201",
   "metadata": {},
   "outputs": [],
   "source": [
    "#imports\n",
    "import requests\n",
    "import json\n",
    "import pandas as pd"
   ]
  },
  {
   "cell_type": "code",
   "execution_count": 5,
   "id": "f8d7b003",
   "metadata": {},
   "outputs": [],
   "source": [
    "#supplementary code to determine what API to use:\n",
    "#'response' was from the history API ... which we ended up using\n",
    "#diff = list(set(response2.keys()).symmetric_difference(set(response.keys())))\n",
    "#print(len(diff))\n",
    "\n",
    "#result:\n",
    "#the bydate API has a 'ranks_history' and 'reviews' value that the other does not have\n",
    "#the history API has all other history values, plus 17 other values that we dont really want except maybe the amazon link\n",
    "#decided to go with history API"
   ]
  },
  {
   "cell_type": "code",
   "execution_count": 9,
   "id": "8e4ce82c",
   "metadata": {},
   "outputs": [
    {
     "name": "stdout",
     "output_type": "stream",
     "text": [
      "Index(['rank', 'rank_last_week', 'weeks_on_list', 'asterisk', 'dagger',\n",
      "       'primary_isbn10', 'primary_isbn13', 'publisher', 'description', 'price',\n",
      "       'title', 'author', 'contributor', 'contributor_note', 'book_image',\n",
      "       'book_image_width', 'book_image_height', 'amazon_product_url',\n",
      "       'age_group', 'book_review_link', 'first_chapter_link',\n",
      "       'sunday_review_link', 'article_chapter_link', 'isbns', 'buy_links',\n",
      "       'book_uri'],\n",
      "      dtype='object')\n"
     ]
    }
   ],
   "source": [
    "#call the API that returns results from specific release dates\n",
    "#needs to receive list date, list name, and offset (when results return more than 20)\n",
    "#date = YYYY-MM-DD or \"current\"\n",
    "baseurl = 'https://api.nytimes.com/svc/books/v3/lists/{}/{}.json?api-key=SxFXElEPeXUt0Nk3zzK0H04iB635Oap6&offset={}'\n",
    "books = requests.get(url=baseurl.format('current','hardcover-fiction',0))\n",
    "\n",
    "#drill down to data we want\n",
    "response2 = books.json()\n",
    "#print(response)\n",
    "response2 = response2['results']\n",
    "response2 = response2['books']\n",
    "#print(response)\n",
    "\n",
    "#make dataframe\n",
    "response2 = pd.DataFrame.from_dict(response2, orient='columns')\n",
    "print(response2.keys())\n",
    "#print(response2.info())\n"
   ]
  },
  {
   "cell_type": "code",
   "execution_count": 67,
   "id": "bb9a6c95",
   "metadata": {},
   "outputs": [
    {
     "name": "stdout",
     "output_type": "stream",
     "text": [
      "2           hardcover-fiction\n",
      "3        hardcover-nonfiction\n",
      "4     trade-fiction-paperback\n",
      "5       mass-market-paperback\n",
      "6        paperback-nonfiction\n",
      "9            hardcover-advice\n",
      "10           paperback-advice\n",
      "17              chapter-books\n",
      "22            paperback-books\n",
      "23              picture-books\n",
      "24               series-books\n",
      "Name: list_name_encoded, dtype: object\n"
     ]
    }
   ],
   "source": [
    "#supplemental code to find books lists for second call above:\n",
    "#get a list of book lists we can choose from\n",
    "BSLists = requests.get(url='https://api.nytimes.com/svc/books/v3/lists/names.json?api-key=SxFXElEPeXUt0Nk3zzK0H04iB635Oap6')\n",
    "BSLists = BSLists.json()\n",
    "BSLists = BSLists['results']\n",
    "BSLists = pd.DataFrame.from_dict(BSLists, orient='columns')\n",
    "#print(BSLists.keys())\n",
    "\n",
    "#the oldest any of these lists were published is 2008-06-08 :(\n",
    "#hardcover-fiction, mass-market-paperback, trade Fiction Paperback seem best for our purposes\n",
    "#these will not include e-book sales... the ebook sales lists start 2011-02-13\n",
    "print(BSLists[BSLists['oldest_published_date']=='2008-06-08']['list_name_encoded'])\n"
   ]
  },
  {
   "cell_type": "code",
   "execution_count": null,
   "id": "b93fb899",
   "metadata": {},
   "outputs": [],
   "source": []
  }
 ],
 "metadata": {
  "kernelspec": {
   "display_name": "Python 3",
   "language": "python",
   "name": "python3"
  },
  "language_info": {
   "codemirror_mode": {
    "name": "ipython",
    "version": 3
   },
   "file_extension": ".py",
   "mimetype": "text/x-python",
   "name": "python",
   "nbconvert_exporter": "python",
   "pygments_lexer": "ipython3",
   "version": "3.8.8"
  }
 },
 "nbformat": 4,
 "nbformat_minor": 5
}
