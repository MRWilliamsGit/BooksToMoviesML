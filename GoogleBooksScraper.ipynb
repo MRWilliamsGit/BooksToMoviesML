{
 "cells": [
  {
   "cell_type": "code",
   "execution_count": null,
   "id": "07f0d872",
   "metadata": {},
   "outputs": [],
   "source": [
    "#Google Books scraper\n",
    "#want to fee movie titles through and get related book info"
   ]
  },
  {
   "cell_type": "code",
   "execution_count": null,
   "id": "c93a0deb",
   "metadata": {},
   "outputs": [],
   "source": []
  }
 ],
 "metadata": {
  "kernelspec": {
   "display_name": "Python 3",
   "language": "python",
   "name": "python3"
  },
  "language_info": {
   "codemirror_mode": {
    "name": "ipython",
    "version": 3
   },
   "file_extension": ".py",
   "mimetype": "text/x-python",
   "name": "python",
   "nbconvert_exporter": "python",
   "pygments_lexer": "ipython3",
   "version": "3.8.8"
  }
 },
 "nbformat": 4,
 "nbformat_minor": 5
}
