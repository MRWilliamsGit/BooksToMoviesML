{
 "cells": [
  {
   "cell_type": "code",
   "execution_count": null,
   "id": "0ffa9503",
   "metadata": {},
   "outputs": [],
   "source": [
    "#Google Books scraper\n",
    "#want to fee movie titles through and get related book info"
   ]
  },
  {
   "cell_type": "code",
   "execution_count": null,
   "id": "fa3b4ba0",
   "metadata": {},
   "outputs": [],
   "source": [
    "#https://www.google.com/books/edition/Harry_Potter_and_the_Goblet_of_Fire/e3_6vQEACAAJ?hl=en\n",
    "#https://www.google.com/search?tbo=p&tbm=bks&q=intitle:Dune&tbs=,bkt:b&num=10\n",
    "#https://www.google.com/books/edition/Dune_The_Butlerian_Jihad/1jkuHDLsiWkC?hl=en&gbpv=0\n",
    "\n",
    "#be sure to get: characters (number?), part of a series?\n",
    "\n",
    "#plan: search term with title and Movie tie in, if no results, then just title?\n",
    "#spit out confidence check, too: title matches\n",
    "\n",
    "#bad ones: the day of chocolate, Dune?\n",
    "#Think Again, Junpei [Movie Tie-in]'"
   ]
  },
  {
   "cell_type": "code",
   "execution_count": 2,
   "id": "4cf66eca",
   "metadata": {},
   "outputs": [],
   "source": [
    "from bs4 import BeautifulSoup\n",
    "import pandas as pd\n",
    "import numpy as np\n",
    "import requests\n",
    "import re"
   ]
  },
  {
   "cell_type": "code",
   "execution_count": 19,
   "id": "75ac2fb4",
   "metadata": {},
   "outputs": [],
   "source": [
    "#this searches by wikipedia's fiction work description - has title, year, and author\n",
    "firsturl = 'https://www.google.com/search?tbo=p&tbm=bks&q={},bkt:b&num=1'.format('The Accidental Tourist (1985), Anne Tyler')\n",
    "\n",
    "# Request the page and use BeautifulSoup to extract the contents\n",
    "page = requests.get(firsturl)\n",
    "soup = BeautifulSoup(page.content, 'html.parser')\n"
   ]
  },
  {
   "cell_type": "code",
   "execution_count": 28,
   "id": "733d79c8",
   "metadata": {},
   "outputs": [
    {
     "name": "stdout",
     "output_type": "stream",
     "text": [
      "None\n"
     ]
    }
   ],
   "source": [
    "#print(soup.prettify())\n",
    "#book = soup.find(attrs={'class':'bHexk Tz5Hvf'})\n",
    "#link = book.find_all('http')\n",
    "print(book)"
   ]
  },
  {
   "cell_type": "code",
   "execution_count": null,
   "id": "e2da32de",
   "metadata": {},
   "outputs": [],
   "source": [
    "###THIS IS THE FULL SCRAPE OF A PAGE###\n",
    "\n",
    "def Get_GBooks(titles):\n",
    "    \n",
    "    firsturl = 'https://www.google.com/search?tbm=bks&q=\\'{} movie tie in'\n",
    "        \n",
    "    # Request the page and use BeautifulSoup to extract the contents\n",
    "    page = requests.get(firsturl)\n",
    "    soup = BeautifulSoup(page.content, 'html.parser')\n",
    "    \n",
    "    #get title\n",
    "    title = soup.find(attrs={'data-testid':'hero-title-block__title'})\n",
    "    title = findtext(title)\n",
    "\n",
    "    #get release date and rating (PG, PG13, etc)\n",
    "    DR = soup.find_all(attrs={'class':'TitleBlockMetaData__ListItemText-sc-12ein40-2 jedhex'})\n",
    "    if DR is not None:\n",
    "        if len(DR)==2:\n",
    "            date = findtext(DR[0])\n",
    "            rating = findtext(DR[1])\n",
    "        else:\n",
    "            date = findtext(DR)\n",
    "            rating = None\n",
    "    else:\n",
    "        date = None\n",
    "        rating = None\n",
    "\n",
    "    #get a list of genres\n",
    "    gen = soup.find(attrs={'data-testid':'storyline-genres'}) \n",
    "    if gen is not None:\n",
    "        gen = gen.find_all('a')\n",
    "        genres =''\n",
    "        for t in range(len(gen)):\n",
    "            genres = genres + findtext(gen[t]) + ' '\n",
    "    else:\n",
    "        genres = None\n",
    "\n",
    "    #get box office info\n",
    "    #budget often has '(estimated)' in it\n",
    "    box = soup.find(attrs={'data-testid':'title-boxoffice-section'})\n",
    "    if box is not None:\n",
    "        budget = box.find(attrs={'data-testid':'title-boxoffice-budget'}) \n",
    "        budget = str(budget)\n",
    "        budget = findmoney(budget)\n",
    "        dom = box.find(attrs={'data-testid':'title-boxoffice-grossdomestic'})\n",
    "        dom = findmoney(dom)\n",
    "        ww = soup.find(attrs={'data-testid':'title-boxoffice-cumulativeworldwidegross'}) \n",
    "        ww = findmoney(ww)\n",
    "    else:\n",
    "        budget = None\n",
    "        dom = None\n",
    "        ww = None\n",
    "\n",
    "    \n",
    "    story = soup.find(attrs={'data-testid':'Storyline'}) \n",
    "    if story is not None:\n",
    "        #get the description\n",
    "        desc = story.find(attrs={'class':'ipc-html-content ipc-html-content--base'})\n",
    "        if desc is not None:\n",
    "            desc = desc.div\n",
    "            desc = findtext(desc)\n",
    "        else:\n",
    "            desc = ''\n",
    "        #get top tags\n",
    "        #only shows top few tags, usually list tag is to full list which can be in hundreds\n",
    "        kw = story.find(attrs={'data-testid':'storyline-plot-keywords'}) \n",
    "        if kw is not None:\n",
    "            kw = kw.find_all('span')\n",
    "            keywords = ''\n",
    "            for t in range(len(kw)):\n",
    "                #keywords.append(findtext(kw[t]))\n",
    "                keywords = keywords + findtext(kw[t]) + ' '\n",
    "            #if 'more' in keywords[-1]:\n",
    "                #keywords = keywords[:-1]\n",
    "        else:\n",
    "            keywords = None\n",
    "    else:\n",
    "        desc = None\n",
    "        keywords = None\n",
    "\n",
    "    #get runtime in minutes\n",
    "    rt = soup.find(attrs={'data-testid':'title-techspec_runtime'}) \n",
    "    if rt is not None:\n",
    "        rt = rt.find('div')\n",
    "        hrs = findtext(rt)\n",
    "        rt = str(rt)\n",
    "        mins = rt[::-1]\n",
    "        mins = mins[7:]\n",
    "        mins = mins[mins.find('<')+1:mins.find('>', mins.find('<'), len(mins))]\n",
    "        if hrs==' ':\n",
    "            runtime = int(mins)\n",
    "        elif mins==' ':\n",
    "            runtime = int(hrs)*60\n",
    "        else:\n",
    "            runtime = int(hrs)*60 + int(mins)\n",
    "    else:\n",
    "        runtime = None\n",
    "\n",
    "    #put all that info in a list and return it \n",
    "    obs = [title,date,rating, genres, budget,dom,ww,desc,keywords, runtime]\n",
    "    \n",
    "    return obs"
   ]
  },
  {
   "cell_type": "code",
   "execution_count": null,
   "id": "e68ddc17",
   "metadata": {},
   "outputs": [],
   "source": [
    "#ok now pull in our list of movies\n",
    "#movies = pd.read_csv(r'C:\\Users\\maria\\OneDrive\\Documents\\AIPI510\\BooksToMoviesML\\FilmList.csv') <--- original 2000-2021 list\n",
    "movies = pd.read_csv(r'C:\\Users\\maria\\OneDrive\\Documents\\AIPI510\\BooksToMoviesML\\FilmList2.csv')\n",
    "movies = movies['Link']\n",
    "\n",
    "#instantiate dataframe\n",
    "data = pd.DataFrame(columns = ['Title', 'Release_Date', 'ViewRating', 'Genres', 'Budget', 'DomesticGross', \n",
    "                              'WorldwideGross', 'Description', 'Keywords', 'Runtime'])\n",
    "\n",
    "#scrape provided pages\n",
    "#this counter is because i had to run it in batches\n",
    "movies = movies[4610:]\n",
    "\n",
    "for this in movies:\n",
    "    #print(this)\n",
    "    obs = Get_Movie('https://www.imdb.com{}'.format(this))\n",
    "    data.loc[len(data)] = obs"
   ]
  },
  {
   "cell_type": "code",
   "execution_count": null,
   "id": "1a075d40",
   "metadata": {},
   "outputs": [],
   "source": [
    "print(data.info())"
   ]
  }
 ],
 "metadata": {
  "kernelspec": {
   "display_name": "Python 3",
   "language": "python",
   "name": "python3"
  },
  "language_info": {
   "codemirror_mode": {
    "name": "ipython",
    "version": 3
   },
   "file_extension": ".py",
   "mimetype": "text/x-python",
   "name": "python",
   "nbconvert_exporter": "python",
   "pygments_lexer": "ipython3",
   "version": "3.8.8"
  }
 },
 "nbformat": 4,
 "nbformat_minor": 5
}
